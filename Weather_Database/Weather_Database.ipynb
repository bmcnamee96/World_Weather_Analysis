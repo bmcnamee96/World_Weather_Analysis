{
 "cells": [
  {
   "cell_type": "code",
   "execution_count": null,
   "id": "339e6448",
   "metadata": {},
   "outputs": [],
   "source": [
    "# import dependencies\n",
    "import pandas as pd\n",
    "import matplotlib.pyplot as plt\n",
    "import numpy as np\n",
    "from citipy import citipy\n",
    "import time\n",
    "from datetime import datetime\n",
    "\n",
    "# import the requests library\n",
    "import requests\n",
    "\n",
    "# import the api key\n",
    "from config import weather_api_key"
   ]
  },
  {
   "cell_type": "code",
   "execution_count": null,
   "id": "86602785",
   "metadata": {},
   "outputs": [],
   "source": [
    "# create a set of random latitude and longitude combinations\n",
    "lats = np.random.uniform(-90, 90, size=2000)\n",
    "lngs = np.random.uniform(-180, 180, size=2000)\n",
    "lat_lngs = zip(lats, lngs)\n",
    "# add the lat and lngs to a list\n",
    "coordinates = list(lat_lngs)"
   ]
  },
  {
   "cell_type": "code",
   "execution_count": null,
   "id": "27edaac9",
   "metadata": {},
   "outputs": [],
   "source": [
    "# create a list for holding the cities\n",
    "cities = []\n",
    "\n",
    "# identify the nearest city for each latitude and longitude combination\n",
    "for coordinate in coordinates:\n",
    "    city = citipy.nearest_city(coordinate[0], coordinate[1]).city_name\n",
    "    \n",
    "    # if the city is unique, add it to the cities list\n",
    "    if city not in cities:\n",
    "        cities.append(city)\n",
    "# print the city count to confirm sufficient count\n",
    "len(cities)"
   ]
  },
  {
   "cell_type": "code",
   "execution_count": null,
   "id": "c053a966",
   "metadata": {},
   "outputs": [],
   "source": [
    "url = f'http://api.openweathermap.org/data/2.5/weather?units=Imperial&appid={weather_api_key}'\n",
    "\n",
    "# create an empty list to hold the weather data\n",
    "city_data = []\n",
    "\n",
    "# print the beginning of the logging\n",
    "print('Beginning Data Retrieval     ')\n",
    "print('-----------------------------')\n",
    "\n",
    "# create counters\n",
    "record_count = 1\n",
    "set_count = 1\n",
    "\n",
    "# loop through all the cities in our list\n",
    "for i, city in enumerate(cities):\n",
    "    \n",
    "    #group cities in sets of 50 for logging purposes\n",
    "    if (i % 50 == 0 and i >= 50):\n",
    "        set_count += 1\n",
    "        record_count = 1\n",
    "        time.sleep(60)\n",
    "        \n",
    "    # create endpoint url with each city\n",
    "    city_url = url + '&q=' + city.replace(' ', '+')\n",
    "    \n",
    "    # log the url, record, and set numbers and the city\n",
    "    print(f'Processing Record {record_count} of Set {set_count} | {city}')\n",
    "    \n",
    "    # add 1 to the record count\n",
    "    record_count += 1\n",
    "    \n",
    "# Run an API request for each of the cities.\n",
    "    try:\n",
    "        # Parse the JSON and retrieve data.\n",
    "        city_weather = requests.get(city_url).json()\n",
    "        # Parse out the needed data.\n",
    "        city_lat = city_weather[\"coord\"][\"lat\"]\n",
    "        city_lng = city_weather[\"coord\"][\"lon\"]\n",
    "        city_max_temp = city_weather[\"main\"][\"temp_max\"]\n",
    "        city_humidity = city_weather[\"main\"][\"humidity\"]\n",
    "        city_clouds = city_weather[\"clouds\"][\"all\"]\n",
    "        city_wind = city_weather[\"wind\"][\"speed\"]\n",
    "        city_country = city_weather[\"sys\"][\"country\"]\n",
    "        city_description = city_weather['weather'][0]['description']\n",
    "        # Convert the date to ISO standard.\n",
    "        city_date = datetime.utcfromtimestamp(city_weather[\"dt\"]).strftime('%Y-%m-%d %H:%M:%S')\n",
    "        # Append the city information into city_data list.\n",
    "        city_data.append({\"City\": city.title(),\n",
    "                          \"Lat\": city_lat,\n",
    "                          \"Lng\": city_lng,\n",
    "                          \"Max Temp\": city_max_temp,\n",
    "                          \"Humidity\": city_humidity,\n",
    "                          \"Cloudiness\": city_clouds,\n",
    "                          \"Wind Speed\": city_wind,\n",
    "                          \"Country\": city_country,\n",
    "                          \"Date\": city_date,\n",
    "                         'Current Description':city_description})\n",
    "\n",
    "# If an error is experienced, skip the city.\n",
    "    except:\n",
    "        print(\"City not found. Skipping...\")\n",
    "        pass\n",
    "\n",
    "# Indicate that Data Loading is complete.\n",
    "print(\"-----------------------------\")\n",
    "print(\"Data Retrieval Complete      \")\n",
    "print(\"-----------------------------\")"
   ]
  },
  {
   "cell_type": "code",
   "execution_count": null,
   "id": "199c04f0",
   "metadata": {},
   "outputs": [],
   "source": [
    "# convert the array of distionaries to a df\n",
    "city_data_df = pd.DataFrame(city_data)\n",
    "\n",
    "# reorder the columns\n",
    "new_column_order = ['City', 'Country', 'Date', 'Lat', 'Lng', 'Max Temp', 'Humidity', 'Cloudiness',  'Wind Speed', 'Current Description']\n",
    "city_data_df = city_data_df[new_column_order]\n",
    "\n",
    "# show the df\n",
    "city_data_df.head()"
   ]
  },
  {
   "cell_type": "code",
   "execution_count": null,
   "id": "79aba3b7",
   "metadata": {},
   "outputs": [],
   "source": [
    "# create the output file (CSV)\n",
    "output_data_file = 'WeatherPy_Database.csv'\n",
    "\n",
    "# export the city_data into a csv\n",
    "city_data_df.to_csv(output_data_file, index_label = 'City_ID')"
   ]
  },
  {
   "cell_type": "code",
   "execution_count": null,
   "id": "6bc4a829",
   "metadata": {},
   "outputs": [],
   "source": []
  }
 ],
 "metadata": {
  "kernelspec": {
   "display_name": "PythonData",
   "language": "python",
   "name": "pythondata"
  },
  "language_info": {
   "codemirror_mode": {
    "name": "ipython",
    "version": 3
   },
   "file_extension": ".py",
   "mimetype": "text/x-python",
   "name": "python",
   "nbconvert_exporter": "python",
   "pygments_lexer": "ipython3",
   "version": "3.7.11"
  }
 },
 "nbformat": 4,
 "nbformat_minor": 5
}
